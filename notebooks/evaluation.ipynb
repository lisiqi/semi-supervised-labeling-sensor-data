{
 "cells": [
  {
   "cell_type": "code",
   "execution_count": 1,
   "metadata": {},
   "outputs": [],
   "source": [
    "import warnings\n",
    "warnings.filterwarnings('ignore')"
   ]
  },
  {
   "cell_type": "markdown",
   "metadata": {},
   "source": [
    "# Model Selection and Evaluation\n",
    "\n",
    "## Use test set to evaluate the algorithm performance\n",
    "Set aside a portion of the initially labeled data as test data to evaluate the performance of two algorithms.\n",
    "\n",
    "We can apply the standard 80-20 train-test split. But since the inital labelded dataset has only 40 data points, we can also apply k-fold cross validation.\n",
    "\n",
    "I will apply a modified version of k-fold: Apply k-fold on initial labeled dataset, keep one fold as validation set, the other folds and all the unlabeled data as training set."
   ]
  },
  {
   "cell_type": "code",
   "execution_count": 2,
   "metadata": {},
   "outputs": [],
   "source": [
    "from sklearn.model_selection import KFold\n",
    "from sklearn.preprocessing import MinMaxScaler\n",
    "from sklearn.semi_supervised import LabelPropagation\n",
    "from sklearn.neighbors import NearestCentroid\n",
    "from sklearn.metrics import f1_score\n",
    "import numpy as np\n",
    "import pandas as pd\n",
    "\n",
    "# Load the data\n",
    "df = pd.read_csv(\"../data/data_sensors.csv\")\n",
    "\n",
    "# Separate labeled and unlabeled data\n",
    "labeled_data = df[df['Label'].notna()]\n",
    "unlabeled_data = df[df['Label'].isna()]\n",
    "\n",
    "# Features and labels for labeled data\n",
    "labeled_features = labeled_data.drop(columns=['Label'])\n",
    "labeled_labels = labeled_data['Label']\n",
    "\n",
    "# Features for unlabeled data\n",
    "unlabeled_features = unlabeled_data.drop(columns=['Label'])\n",
    "\n",
    "# Normalize the sensor features\n",
    "scaler = MinMaxScaler()\n",
    "unlabeled_features_scaled = scaler.fit_transform(unlabeled_features)\n",
    "labeled_features_scaled = scaler.transform(labeled_features)\n",
    "\n",
    "# Initialize k-fold cross-validation\n",
    "kf = KFold(n_splits=5, shuffle=True, random_state=42)  # 5-fold CV"
   ]
  },
  {
   "cell_type": "markdown",
   "metadata": {},
   "source": [
    "### Label Propagation with RBF Kernel"
   ]
  },
  {
   "cell_type": "code",
   "execution_count": 3,
   "metadata": {},
   "outputs": [
    {
     "name": "stdout",
     "output_type": "stream",
     "text": [
      "Average F1 Score across 5 folds: 0.40\n"
     ]
    }
   ],
   "source": [
    "f1_scores = []\n",
    "\n",
    "# Perform k-fold CV on labeled data\n",
    "for train_index, val_index in kf.split(labeled_features_scaled):\n",
    "    # Split the labeled data into training and validation sets\n",
    "    X_train_labeled, X_val = labeled_features_scaled[train_index], labeled_features_scaled[val_index]\n",
    "    y_train_labeled, y_val = labeled_labels.iloc[train_index], labeled_labels.iloc[val_index]\n",
    "    \n",
    "    # Combine labeled training data with unlabeled data for label propagation\n",
    "    X_train = np.vstack([X_train_labeled, unlabeled_features_scaled])\n",
    "    y_train = np.concatenate([y_train_labeled, [-1] * len(unlabeled_features_scaled)])  # Mark unlabeled as -1\n",
    "    \n",
    "    # Apply Label Propagation\n",
    "    label_prop_rbf = LabelPropagation(kernel='rbf', gamma=20)\n",
    "    label_prop_rbf.fit(X_train, y_train)\n",
    "    \n",
    "    # Predict labels for the validation set\n",
    "    y_pred = label_prop_rbf.predict(X_val)\n",
    "    \n",
    "    # Compute F1 score for this fold (macro-averaged for multi-class)\n",
    "    f1 = f1_score(y_val, y_pred, average='macro')\n",
    "    f1_scores.append(f1)\n",
    "\n",
    "# Calculate the average F1 score across all folds\n",
    "average_f1 = np.mean(f1_scores)\n",
    "print(f\"Average F1 Score across {kf.n_splits} folds: {average_f1:.2f}\")"
   ]
  },
  {
   "cell_type": "markdown",
   "metadata": {},
   "source": [
    "### Label Propagation with KNN Kernel"
   ]
  },
  {
   "cell_type": "code",
   "execution_count": 4,
   "metadata": {},
   "outputs": [
    {
     "name": "stdout",
     "output_type": "stream",
     "text": [
      "Average F1 Score across 5 folds: 0.16\n"
     ]
    }
   ],
   "source": [
    "f1_scores = []\n",
    "\n",
    "# Perform k-fold CV on labeled data\n",
    "for train_index, val_index in kf.split(labeled_features_scaled):\n",
    "    # Split the labeled data into training and validation sets\n",
    "    X_train_labeled, X_val = labeled_features_scaled[train_index], labeled_features_scaled[val_index]\n",
    "    y_train_labeled, y_val = labeled_labels.iloc[train_index], labeled_labels.iloc[val_index]\n",
    "    \n",
    "    # Combine labeled training data with unlabeled data for label propagation\n",
    "    X_train = np.vstack([X_train_labeled, unlabeled_features_scaled])\n",
    "    y_train = np.concatenate([y_train_labeled, [-1] * len(unlabeled_features_scaled)])  # Mark unlabeled as -1\n",
    "    \n",
    "    # Apply Label Propagation\n",
    "    label_prop_knn = LabelPropagation(kernel='knn', n_neighbors=7)\n",
    "    label_prop_knn.fit(X_train, y_train)\n",
    "    \n",
    "    # Predict labels for the validation set\n",
    "    y_pred = label_prop_knn.predict(X_val)\n",
    "    \n",
    "    # Compute F1 score for this fold (macro-averaged for multi-class)\n",
    "    f1 = f1_score(y_val, y_pred, average='macro')\n",
    "    f1_scores.append(f1)\n",
    "\n",
    "# Calculate the average F1 score across all folds\n",
    "average_f1 = np.mean(f1_scores)\n",
    "print(f\"Average F1 Score across {kf.n_splits} folds: {average_f1:.2f}\")"
   ]
  },
  {
   "cell_type": "markdown",
   "metadata": {},
   "source": [
    "### Nearest Centroid"
   ]
  },
  {
   "cell_type": "code",
   "execution_count": 5,
   "metadata": {},
   "outputs": [
    {
     "name": "stdout",
     "output_type": "stream",
     "text": [
      "Average F1 Score across 5 folds: 0.34\n"
     ]
    }
   ],
   "source": [
    "f1_scores = []\n",
    "\n",
    "# Perform k-fold CV on labeled data\n",
    "for train_index, val_index in kf.split(labeled_features_scaled):\n",
    "    # Split the labeled data into training and validation sets\n",
    "    X_train, X_val = labeled_features_scaled[train_index], labeled_features_scaled[val_index]\n",
    "    y_train, y_val = labeled_labels.iloc[train_index], labeled_labels.iloc[val_index]\n",
    "    \n",
    "    # Initialize and train the Nearest Centroid classifier\n",
    "    nearest_centroid = NearestCentroid()\n",
    "    nearest_centroid.fit(X_train, y_train)\n",
    "    \n",
    "    # Predict labels for the validation set\n",
    "    y_pred = nearest_centroid.predict(X_val)\n",
    "    \n",
    "    # Compute F1 score for this fold (macro-averaged for multi-class)\n",
    "    f1 = f1_score(y_val, y_pred, average='macro')\n",
    "    f1_scores.append(f1)\n",
    "\n",
    "# Calculate the average F1 score across all folds\n",
    "average_f1 = np.mean(f1_scores)\n",
    "print(f\"Average F1 Score across {kf.n_splits} folds: {average_f1:.2f}\")"
   ]
  },
  {
   "cell_type": "markdown",
   "metadata": {},
   "source": [
    "From above results, we can see that Label Propagation with RBF Kernel performs the best."
   ]
  }
 ],
 "metadata": {
  "kernelspec": {
   "display_name": "ml6-clustering-sensor-data-B1uc33Pk-py3.12",
   "language": "python",
   "name": "python3"
  },
  "language_info": {
   "codemirror_mode": {
    "name": "ipython",
    "version": 3
   },
   "file_extension": ".py",
   "mimetype": "text/x-python",
   "name": "python",
   "nbconvert_exporter": "python",
   "pygments_lexer": "ipython3",
   "version": "3.12.7"
  }
 },
 "nbformat": 4,
 "nbformat_minor": 2
}
